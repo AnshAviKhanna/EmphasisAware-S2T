{
  "cells": [
    {
      "cell_type": "code",
      "execution_count": null,
      "metadata": {
        "_cell_guid": "b1076dfc-b9ad-4769-8c92-a6c4dae69d19",
        "_uuid": "8f2839f25d086af736a60e9eeb907d3b93b6e0e5",
        "execution": {
          "iopub.execute_input": "2024-11-26T17:26:25.672428Z",
          "iopub.status.busy": "2024-11-26T17:26:25.672030Z",
          "iopub.status.idle": "2024-11-26T17:26:25.689855Z",
          "shell.execute_reply": "2024-11-26T17:26:25.688973Z",
          "shell.execute_reply.started": "2024-11-26T17:26:25.672394Z"
        },
        "id": "TpLpljHfKnI4",
        "outputId": "e11b0784-c701-4329-d25c-b60f0d2687e4",
        "trusted": true
      },
      "outputs": [
        {
          "name": "stdout",
          "output_type": "stream",
          "text": [
            "/kaggle/input/profpriyanka/PriyankaDas.wav\n",
            "/kaggle/input/audiofiles/Shourya.wav\n",
            "/kaggle/input/audiofiles/Aditi.wav\n",
            "/kaggle/input/audiofiles/Ansh.wav\n",
            "/kaggle/input/audiofiles/Shaivi.wav\n",
            "/kaggle/input/audiofiles/Thrissha.wav\n",
            "/kaggle/input/audiofiles/Kushal.wav\n",
            "/kaggle/input/audiofiles/Shriya.wav\n",
            "/kaggle/input/audiofiles/Neha.wav\n",
            "/kaggle/input/audiofiles/Paurnnamy.wav\n",
            "/kaggle/input/audiofiles/Siddharth.wav\n",
            "/kaggle/input/audiofiles/Harsh.wav\n",
            "/kaggle/input/audiofiles/Yashvi.wav\n",
            "/kaggle/input/audiofiles/Shive.wav\n",
            "/kaggle/input/audiofiles/Arjun.wav\n",
            "/kaggle/input/audiofiles/Vishudha.wav\n",
            "/kaggle/input/audiofiles/Akshaya.wav\n",
            "/kaggle/input/audiofiles/Navya.wav\n",
            "/kaggle/input/audiofiles/Hemakshi.wav\n",
            "/kaggle/input/audiofiles/Chandrima.wav\n",
            "/kaggle/input/audiofiles/Ketaki.wav\n",
            "/kaggle/input/newtest/RaghuramSir.wav\n",
            "/kaggle/input/harshitaivan/Harshita.wav\n",
            "/kaggle/input/harshitaivan/Ivan.wav\n",
            "/kaggle/input/aadityagautam/Aaditya.wav\n",
            "/kaggle/input/aadityagautam/Aaditya2.wav\n",
            "/kaggle/input/aadityagautam/Gautam.wav\n",
            "/kaggle/input/anshulriya/Riya.wav\n",
            "/kaggle/input/anshulriya/Anshul.wav\n",
            "/kaggle/input/janhavi/Janhavi.wav\n",
            "/kaggle/input/aishdeva/Aishwarya.wav\n",
            "/kaggle/input/aishdeva/Devashree.wav\n"
          ]
        }
      ],
      "source": [
        "# This Python 3 environment comes with many helpful analytics libraries installed\n",
        "# It is defined by the kaggle/python Docker image: https://github.com/kaggle/docker-python\n",
        "# For example, here's several helpful packages to load\n",
        "\n",
        "import numpy as np # linear algebra\n",
        "import pandas as pd # data processing, CSV file I/O (e.g. pd.read_csv)\n",
        "\n",
        "# Input data files are available in the read-only \"../input/\" directory\n",
        "# For example, running this (by clicking run or pressing Shift+Enter) will list all files under the input directory\n",
        "\n",
        "import os\n",
        "for dirname, _, filenames in os.walk('/kaggle/input'):\n",
        "    for filename in filenames:\n",
        "        print(os.path.join(dirname, filename))\n",
        "\n",
        "\n",
        "# You can write up to 20GB to the current directory (/kaggle/working/) that gets preserved as output when you create a version using \"Save & Run All\"\n",
        "# You can also write temporary files to /kaggle/temp/, but they won't be saved outside of the current session"
      ]
    },
    {
      "cell_type": "code",
      "execution_count": null,
      "metadata": {
        "execution": {
          "iopub.execute_input": "2024-11-26T17:26:25.707853Z",
          "iopub.status.busy": "2024-11-26T17:26:25.707583Z",
          "iopub.status.idle": "2024-11-26T17:26:25.714253Z",
          "shell.execute_reply": "2024-11-26T17:26:25.713479Z",
          "shell.execute_reply.started": "2024-11-26T17:26:25.707829Z"
        },
        "id": "27TNbGtnKnI6",
        "trusted": true
      },
      "outputs": [],
      "source": [
        "name = \"user\""
      ]
    },
    {
      "cell_type": "markdown",
      "metadata": {
        "id": "CxzReHNdKnI6"
      },
      "source": [
        "**AUDIO TO TEXT**"
      ]
    },
    {
      "cell_type": "code",
      "execution_count": null,
      "metadata": {
        "execution": {
          "iopub.execute_input": "2024-11-26T17:26:25.862591Z",
          "iopub.status.busy": "2024-11-26T17:26:25.862271Z",
          "iopub.status.idle": "2024-11-26T17:27:02.687042Z",
          "shell.execute_reply": "2024-11-26T17:27:02.686122Z",
          "shell.execute_reply.started": "2024-11-26T17:26:25.862556Z"
        },
        "id": "zhe5cXI5KnI8",
        "outputId": "8195d554-3a35-47b7-853e-f8966cbfae35",
        "trusted": true
      },
      "outputs": [
        {
          "name": "stderr",
          "output_type": "stream",
          "text": [
            "Transcribe:   0%|          | 0/236.74 [00:00<?, ?sec/s]"
          ]
        },
        {
          "name": "stdout",
          "output_type": "stream",
          "text": [
            "Detected language: english\n"
          ]
        },
        {
          "name": "stderr",
          "output_type": "stream",
          "text": [
            "Transcribe:  99%|█████████▉| 234.76/236.74 [00:36<00:00,  6.42sec/s]\n"
          ]
        },
        {
          "data": {
            "text/plain": [
              "\" Okay, the lie detector was asleep when he heard the telephone ringing. At first, he believed it was the clock ordering him to rise, but then he awakened completely and remembered his profession. The voice he heard was rusty, as if disguised. He could not distinguish what altered it, alcohol, drugs, anxiety or fear. It was a woman's voice, but it could have been an adolescent imitating a woman. A woman imitating an adolescent. What is it? he asked. I had to talk to someone. I can't sleep. I had to call someone. You have something to confess? To confess? echoed the voice incredulously. This time, the ascending tonality is unmistakably feminine. Don't you know who I am? No, I just dialed blindly. I've done this before. It is good to hear a voice in the middle of the night, that's all. Why a stranger? You could call a friend. A stranger doesn't ask questions, but it's my profession to ask questions. Who are you? A lie detector. There was long silence after his words. The lie detector expected her to hang up, but he heard a cough through the telephone. Are you there? Yes. I thought you would hang up. There was laughter through the telephone. A lax, spangled, spiraling laughter. But you don't practice your profession over the telephone. It's true. Yet you wouldn't have called me if you were innocent. Guilt is the one burden human beings can't bear alone. As soon as a crime is committed, there is a telephone call or a confession to strangers. There was no crime. There is only one relief. To confess? To be caught, tried, punished? That's the ideal of a crime. Every criminal. But it's not quite so simple. Only half of the self wants to atone. To be freed of the torments of guilt. The other half of man wants to continue to be free. So only half of the self surrenders, calling out, catch me. While the other half creates obstacles, difficulties, seeks to escape. It's a flirtation with justice. If justice is nimble, it will follow the clue with the criminal's help. If not, the criminal will take care of it. Is that worse? I think so. I think we are more severe judges of our own acts than professional judges. We judge our thoughts, our intents, our secret curses, our secret hates, not only our acts. She hung up. The lie detector called up the operator, gave orders to have the call traced. It came from a bar. Half an hour later, he was sitting there. He did not allow his eyes to roam. He wanted his ears to alone to be attentive, that he might recognize the voice. When she ordered a drink, he lifted his eyes from his newspaper. Dressed in red and silver, she evoked the sounds and imagery of fire engines as they toured through the streets of New York, alarming the heart with the violent gong of catastrophe. All dressed in red and silver, the tearing in red and silver cutting a pathway through the flesh. The first time he looked at her, he felt everything. Everything would burn out of the red and silver, and the long cry for love to the poet who survives in all human beings, as the child survives in him. To this poet, she threw an unexpected ladder in the middle of the city, an ordained climber. As she appeared, the orderly alignment of the city gave way before this ladder, one was invited to climb. Standing straight in space, like the back ladder of Baron Munchhausen, which led to the sky. Only her ladder.\""
            ]
          },
          "execution_count": 92,
          "metadata": {},
          "output_type": "execute_result"
        }
      ],
      "source": [
        "audio_file = \"/kaggle/input/audiofiles/{}.wav\".format(name)\n",
        "result = model.transcribe(audio_file)\n",
        "text = result.text\n",
        "text"
      ]
    },
    {
      "cell_type": "markdown",
      "metadata": {
        "id": "LgjXRZDlKnI8"
      },
      "source": [
        "**GENERATE EMPHASIZED REGIONS**"
      ]
    },
    {
      "cell_type": "code",
      "execution_count": null,
      "metadata": {
        "execution": {
          "iopub.execute_input": "2024-11-26T17:27:02.688450Z",
          "iopub.status.busy": "2024-11-26T17:27:02.688152Z",
          "iopub.status.idle": "2024-11-26T17:27:04.240681Z",
          "shell.execute_reply": "2024-11-26T17:27:04.239727Z",
          "shell.execute_reply.started": "2024-11-26T17:27:02.688422Z"
        },
        "id": "jlMBB62fKnI8",
        "trusted": true
      },
      "outputs": [],
      "source": [
        "import numpy as np\n",
        "import librosa\n",
        "import math\n",
        "\n",
        "def extract_pitch(audio_file, sr=22000, hop_length=220):\n",
        "    y, sr = librosa.load(audio_file, sr=sr)\n",
        "    pitches, magnitudes = librosa.core.piptrack(y=y, sr=sr, hop_length=hop_length)\n",
        "    pitch_values = []\n",
        "    for t in range(pitches.shape[1]):\n",
        "        pitch_slice = pitches[:, t]\n",
        "        pitch_value = pitch_slice[pitch_slice > 0]\n",
        "        if len(pitch_value) > 0:\n",
        "            pitch_values.append(np.max(pitch_value))\n",
        "        else:\n",
        "            pitch_values.append(0)\n",
        "    return np.array(pitch_values)\n",
        "\n",
        "def pitch_activity(pitch_values, sr=22000, window_size=1, hop_length=220):\n",
        "    frames_per_second = sr / hop_length\n",
        "    window_frames = int(window_size * frames_per_second)\n",
        "    pitch_activity_list = []\n",
        "    for i in range(0, len(pitch_values), window_frames):\n",
        "        window = pitch_values[i:i + window_frames]\n",
        "        if len(window) > 0:\n",
        "            std_dev = np.std(window)\n",
        "            pitch_range = np.max(window) - np.min(window)\n",
        "        else:\n",
        "            std_dev, pitch_range = 0, 0\n",
        "        pitch_activity_list.append((std_dev, pitch_range))\n",
        "    return np.array(pitch_activity_list)\n",
        "\n",
        "\n",
        "def detect_emphasis(pitch_values):\n",
        "    thresholds = np.percentile(pitch_values, 98.5)\n",
        "    emphasized_frames = []\n",
        "    for i in range (0, len(pitch_values)):\n",
        "        if pitch_values[i] >= thresholds:\n",
        "            emphasized_frames.append(i)\n",
        "    return np.array(emphasized_frames)\n",
        "\n",
        "def score_windows(emphasized_frames):\n",
        "    scores = {}\n",
        "    for i in emphasized_frames:\n",
        "        if (math.floor(i/100),math.floor(i/100)+1) in scores.keys():\n",
        "            scores[(math.floor(i/100),math.floor(i/100)+1)] += 1\n",
        "        else:\n",
        "            scores[(math.floor(i/100),math.floor(i/100)+1)] = 1\n",
        "    return scores\n",
        "\n",
        "def emphasize_speech(audio_file, sr=22000, hop_length=220):\n",
        "    pitch_values = extract_pitch(audio_file, sr=sr, hop_length=hop_length)\n",
        "    # print(len(pitch_values))\n",
        "    emphasized_frames = detect_emphasis(pitch_values)\n",
        "    # print(emphasized_frames)\n",
        "    window_scores = score_windows(emphasized_frames)\n",
        "    return window_scores\n",
        "\n",
        "regions = emphasize_speech(\"/kaggle/input/audiofiles/{}.wav\".format(name))"
      ]
    },
    {
      "cell_type": "code",
      "execution_count": null,
      "metadata": {
        "execution": {
          "iopub.execute_input": "2024-11-26T17:27:04.242030Z",
          "iopub.status.busy": "2024-11-26T17:27:04.241779Z",
          "iopub.status.idle": "2024-11-26T17:27:04.247578Z",
          "shell.execute_reply": "2024-11-26T17:27:04.246663Z",
          "shell.execute_reply.started": "2024-11-26T17:27:04.242006Z"
        },
        "id": "5JatPxsrKnI8",
        "outputId": "99f49d72-d7e8-4203-a642-e1493e394290",
        "trusted": true
      },
      "outputs": [
        {
          "data": {
            "text/plain": [
              "152"
            ]
          },
          "execution_count": 94,
          "metadata": {},
          "output_type": "execute_result"
        }
      ],
      "source": [
        "timestamp_ranges=[]\n",
        "for i in regions.keys():\n",
        "    timestamp_ranges.append(i)\n",
        "\n",
        "len(regions)"
      ]
    },
    {
      "cell_type": "markdown",
      "metadata": {
        "id": "c1_YjQ8gKnI8"
      },
      "source": [
        "**WORD TIMESTAMP MAPPING**"
      ]
    },
    {
      "cell_type": "code",
      "execution_count": null,
      "metadata": {
        "execution": {
          "iopub.execute_input": "2024-11-26T17:27:04.249834Z",
          "iopub.status.busy": "2024-11-26T17:27:04.249537Z",
          "iopub.status.idle": "2024-11-26T17:27:04.257220Z",
          "shell.execute_reply": "2024-11-26T17:27:04.256483Z",
          "shell.execute_reply.started": "2024-11-26T17:27:04.249809Z"
        },
        "id": "6kpPz8SIKnI8",
        "trusted": true
      },
      "outputs": [],
      "source": [
        "import stable_whisper"
      ]
    },
    {
      "cell_type": "code",
      "execution_count": null,
      "metadata": {
        "execution": {
          "iopub.execute_input": "2024-11-26T17:27:04.258405Z",
          "iopub.status.busy": "2024-11-26T17:27:04.258112Z",
          "iopub.status.idle": "2024-11-26T17:27:14.377441Z",
          "shell.execute_reply": "2024-11-26T17:27:14.376599Z",
          "shell.execute_reply.started": "2024-11-26T17:27:04.258380Z"
        },
        "id": "__FukB00KnI8",
        "outputId": "70ba6441-7526-4d85-e3b0-9b4ca1779f8e",
        "trusted": true
      },
      "outputs": [
        {
          "name": "stderr",
          "output_type": "stream",
          "text": [
            "Align: 100%|██████████| 236.74/236.74 [00:09<00:00, 24.62sec/s]\n",
            "Adjustment: 100%|██████████| 234.16/234.16 [00:00<00:00, 7345.84sec/s]\n"
          ]
        },
        {
          "name": "stdout",
          "output_type": "stream",
          "text": [
            "Saved: /kaggle/working/timestamps.json\n"
          ]
        }
      ],
      "source": [
        "result = model.align('/kaggle/input/audiofiles/{}.wav'.format(name), text, language='en') #the alignment step\n",
        "result.save_as_json(\"timestamps.json\")"
      ]
    },
    {
      "cell_type": "markdown",
      "metadata": {
        "id": "2P_1_jqKKnI9"
      },
      "source": [
        "**HIGHLIGHT EMPHASIZED REGIONS**"
      ]
    },
    {
      "cell_type": "code",
      "execution_count": null,
      "metadata": {
        "execution": {
          "iopub.execute_input": "2024-11-26T17:27:14.378838Z",
          "iopub.status.busy": "2024-11-26T17:27:14.378539Z",
          "iopub.status.idle": "2024-11-26T17:27:14.452142Z",
          "shell.execute_reply": "2024-11-26T17:27:14.451231Z",
          "shell.execute_reply.started": "2024-11-26T17:27:14.378812Z"
        },
        "id": "sHPB4vHGKnI9",
        "outputId": "db72b101-f622-483c-832c-106a09a84874",
        "trusted": true
      },
      "outputs": [
        {
          "name": "stdout",
          "output_type": "stream",
          "text": [
            "The original JSON structure has been reformatted and saved to 'formatted_timestamps.json'.\n",
            "The updated JSON with 'highlight' field (both true and false) has been saved to 'highlighted_timestamps.json'.\n"
          ]
        }
      ],
      "source": [
        "import json\n",
        "\n",
        "# Load input from timestamps.json\n",
        "with open('timestamps.json', 'r') as file:\n",
        "    input_json = json.load(file)\n",
        "\n",
        "# Save the contents back to a new file with the same data but formatted with indent=4\n",
        "with open('formatted_timestamps.json', 'w') as outfile:\n",
        "    json.dump(input_json, outfile, indent=4)\n",
        "\n",
        "print(\"The original JSON structure has been reformatted and saved to 'formatted_timestamps.json'.\")\n",
        "\n",
        "\n",
        "# Load input from timestamps.json\n",
        "with open('timestamps.json', 'r') as file:\n",
        "    input_json = json.load(file)\n",
        "\n",
        "# Function to check if a word's timestamp falls in any of the given timestamp ranges\n",
        "def is_highlighted(word_start, word_end, timestamp_ranges):\n",
        "    for start, end in timestamp_ranges:\n",
        "        if word_start < end and word_end > start:\n",
        "            return True, regions[(start, end)]\n",
        "    return False, 0\n",
        "\n",
        "# Process each word in the JSON to add the 'highlight' field\n",
        "for segment in input_json[\"segments\"]:\n",
        "    for word in segment[\"words\"]:\n",
        "        word_start = word[\"start\"]\n",
        "        word_end = word[\"end\"]\n",
        "        word[\"highlight\"], word[\"score\"] = is_highlighted(word_start, word_end, timestamp_ranges)\n",
        "\n",
        "# Save the modified JSON to a new file (highlighted_timestamps.json) with proper formatting\n",
        "with open('highlighted_timestamps.json', 'w') as outfile:\n",
        "    json.dump(input_json, outfile, indent=4)\n",
        "\n",
        "print(\"The updated JSON with 'highlight' field (both true and false) has been saved to 'highlighted_timestamps.json'.\")\n"
      ]
    },
    {
      "cell_type": "markdown",
      "metadata": {
        "id": "D38YNC9PKnI9"
      },
      "source": [
        "**GENERATE HIGHLIGHTED TEXT**"
      ]
    },
    {
      "cell_type": "code",
      "execution_count": null,
      "metadata": {
        "execution": {
          "iopub.execute_input": "2024-11-26T17:27:14.453499Z",
          "iopub.status.busy": "2024-11-26T17:27:14.453243Z",
          "iopub.status.idle": "2024-11-26T17:27:14.465562Z",
          "shell.execute_reply": "2024-11-26T17:27:14.464690Z",
          "shell.execute_reply.started": "2024-11-26T17:27:14.453475Z"
        },
        "id": "NLz3MN3GKnI9",
        "outputId": "91c2babe-df50-4d50-ca0d-f2728f8d257d",
        "trusted": true
      },
      "outputs": [
        {
          "name": "stdout",
          "output_type": "stream",
          "text": [
            "{1.3{ Okay, the lie detector was asleep when he heard the}}  telephone  ringing.  At  first, {1.0{ he believed it was the}}  clock  ordering  him  to  rise, {1.0{ but then he awakened completely and remembered}}  his  profession. {3.0{ The voice}}  he  heard  was  rusty, {3.0{ as if disguised.}}  He  could  not  distinguish  what  altered  it, {3.0{ alcohol,}}  drugs,  anxiety  or  fear. {1.0{ It was a woman's voice, but}}  it  could  have  been  an  adolescent  imitating  a  woman. {1.0{ A woman imitating}}  an  adolescent. {1.9285714285714286{ What is it? he asked. I had to talk to someone. I can't sleep.}}  I  had  to  call  someone. {3.0{ You}}  have  something  to  confess?  To  confess? {3.0{ echoed}}  the  voice {2.0{ incredulously. This}}  time,  the  ascending  tonality  is  unmistakably  feminine. {2.0{ Don't you know who I am? No, I just dialed}}  blindly. {2.5714285714285716{ I've done this before. It is}}  good  to  hear  a  voice {1.6666666666666667{ in the middle of the night, that's all. Why a stranger? You could call a friend. A stranger}}  doesn't  ask  questions, {3.0{ but it's my profession}}  to  ask {1.6{ questions. Who are you? A}}  lie  detector. {1.5{ There was long silence}}  after  his  words. {1.0{ The lie detector}}  expected  her  to  hang  up, {1.5{ but he heard a cough through}}  the  telephone. {1.0{ Are you there?}}  Yes.  I {1.0{ thought you would hang up. There was laughter through}}  the  telephone. {2.125{ A lax, spangled, spiraling laughter. But you don't}}  practice  your  profession  over  the  telephone. {3.0{ It's true.}}  Yet  you  wouldn't  have  called  me  if  you  were  innocent. {4.0{ Guilt is}}  the  one  burden  human  beings  can't {3.0{ bear alone.}}  As  soon  as  a  crime  is  committed,  there  is  a  telephone  call {2.6176470588235294{ or a confession to strangers. There was no crime. There is only one relief. To confess? To be caught, tried, punished? That's the ideal of a crime. Every criminal. But it's not quite}}  so  simple. {1.9259259259259258{ Only half of the self wants to atone. To be freed of the torments of guilt. The other half of man wants to continue to be free. So only half of the self surrenders, calling out, catch me. While the other half creates obstacles, difficulties, seeks to escape. It's a flirtation with justice.}}  If  justice  is  nimble,  it  will  follow  the  clue  with  the  criminal's {2.0357142857142856{ help. If not, the criminal will take care of it. Is that worse? I think so. I think we are more severe judges of our own acts than}}  professional  judges. {3.1666666666666665{ We judge our thoughts, our intents, our secret curses, our secret hates,}}  not  only  our  acts.  She  hung {2.0{ up. The lie detector called up the operator, gave orders to have the call traced. It came from a bar. Half an hour later, he was sitting there. He did}}  not  allow  his  eyes {1.6666666666666667{ to roam. He wanted his ears}}  to  alone {1.375{ to be attentive, that he might recognize the}}  voice. {2.7142857142857144{ When she ordered a drink, he lifted his eyes from his newspaper. Dressed in}}  red  and  silver,  she  evoked  the  sounds  and  imagery {2.5{ of fire engines as they toured through the}}  streets  of  New  York, {6.0{ alarming the heart}}  with  the  violent  gong {3.4{ of catastrophe. All dressed in}}  red  and  silver, {1.0{ the tearing in}}  red  and  silver  cutting  a  pathway  through  the  flesh. {1.0{ The first time he looked at}}  her,  he  felt {1.92{ everything. Everything would burn out of the red and silver, and the long cry for love to the poet who survives in all human beings,}}  as  the  child  survives  in  him. {2.6666666666666665{ To this poet, she threw an}}  unexpected  ladder  in  the  middle  of  the  city, {3.0{ an ordained climber. As she appeared, the}}  orderly  alignment  of  the  city  gave  way  before  this  ladder,  one {1.2{ was invited to climb. Standing}}  straight  in  space,  like  the  back  ladder  of  Baron  Munchhausen, {2.25{ which led to the sky. Only her ladder.}}\n"
          ]
        }
      ],
      "source": [
        "import json\n",
        "\n",
        "def reconstruct_text_from_json(file_path):\n",
        "    # Open and read the JSON file\n",
        "    with open(file_path, 'r') as file:\n",
        "        json_data = json.load(file)\n",
        "\n",
        "    final_text = []\n",
        "    current_highlight_group = []\n",
        "\n",
        "    # Iterate over each word in the segments\n",
        "    total = 0\n",
        "    count = 0\n",
        "    for segment in json_data['segments']:\n",
        "        for word_data in segment['words']:\n",
        "            word = word_data['word']\n",
        "            highlight = word_data['highlight']\n",
        "            score = word_data['score']\n",
        "            if highlight:\n",
        "                # If the word is highlighted, append it to the current highlighted group\n",
        "                total += score\n",
        "                count += 1\n",
        "                current_highlight_group.append(word)\n",
        "            else:\n",
        "                # If the word is not highlighted and there are highlighted words collected,\n",
        "                # finalize the highlighted group and append it to the final text\n",
        "                if current_highlight_group:\n",
        "                    final_text.append('{'+ str(total/count) + '{' + ''.join(current_highlight_group) + '}}')\n",
        "                    current_highlight_group = []\n",
        "                    total = 0\n",
        "                    count = 0\n",
        "                # Append the non-highlighted word directly to the final text\n",
        "                final_text.append(word)\n",
        "\n",
        "    # After loop, if there are any leftover highlighted words, append them\n",
        "    if current_highlight_group:\n",
        "        final_text.append('{'+ str(total/count) + '{' + ''.join(current_highlight_group) + '}}')\n",
        "\n",
        "    # Join all parts of the text and return the result\n",
        "    return ' '.join(final_text)\n",
        "\n",
        "# Example usage: Assuming the input JSON file is 'highlighted_timestamps.json'\n",
        "file_path = 'highlighted_timestamps.json'\n",
        "reconstructed_text = reconstruct_text_from_json(file_path)\n",
        "print(reconstructed_text)"
      ]
    },
    {
      "cell_type": "markdown",
      "metadata": {
        "id": "L-ELlr-cKnI9"
      },
      "source": [
        "**PROMPT BASED SUMMARIZATION**"
      ]
    },
    {
      "cell_type": "code",
      "execution_count": null,
      "metadata": {
        "execution": {
          "iopub.execute_input": "2024-11-26T17:27:14.467340Z",
          "iopub.status.busy": "2024-11-26T17:27:14.466697Z",
          "iopub.status.idle": "2024-11-26T17:27:14.476947Z",
          "shell.execute_reply": "2024-11-26T17:27:14.476144Z",
          "shell.execute_reply.started": "2024-11-26T17:27:14.467282Z"
        },
        "id": "62GScduxKnI9",
        "trusted": true
      },
      "outputs": [],
      "source": [
        "OPENAI_API_KEY=\"#################################\""
      ]
    },
    {
      "cell_type": "code",
      "execution_count": null,
      "metadata": {
        "execution": {
          "iopub.execute_input": "2024-11-26T17:27:14.478121Z",
          "iopub.status.busy": "2024-11-26T17:27:14.477870Z",
          "iopub.status.idle": "2024-11-26T17:27:14.486555Z",
          "shell.execute_reply": "2024-11-26T17:27:14.485797Z",
          "shell.execute_reply.started": "2024-11-26T17:27:14.478080Z"
        },
        "id": "M4MNt1MGKnI9",
        "outputId": "6270314b-326a-4196-c85f-77474d668f86",
        "trusted": true
      },
      "outputs": [
        {
          "data": {
            "text/plain": [
              "612"
            ]
          },
          "execution_count": 100,
          "metadata": {},
          "output_type": "execute_result"
        }
      ],
      "source": [
        "text_word_count=len(text.split(\" \"))\n",
        "text_word_count"
      ]
    },
    {
      "cell_type": "code",
      "execution_count": null,
      "metadata": {
        "execution": {
          "iopub.execute_input": "2024-11-26T17:27:14.488506Z",
          "iopub.status.busy": "2024-11-26T17:27:14.487618Z",
          "iopub.status.idle": "2024-11-26T17:27:25.938431Z",
          "shell.execute_reply": "2024-11-26T17:27:25.937595Z",
          "shell.execute_reply.started": "2024-11-26T17:27:14.488466Z"
        },
        "id": "ALNfDEEmKnI9",
        "outputId": "3ad6b1ae-6178-4fcc-ad67-679a54645446",
        "trusted": true
      },
      "outputs": [
        {
          "name": "stdout",
          "output_type": "stream",
          "text": [
            "Summary: The lie detector was asleep when he heard the telephone ringing. He believed it was the clock ordering him to rise, but then he remembered his profession. The voice he heard was rusty, as if disguised. He could not distinguish what altered it, alcohol, drugs, anxiety or fear. It was a woman's voice, but it could have been an adolescent imitating a woman. A woman imitating an adolescent. \"What is it?\" he asked. \"I had to talk to someone. I can't sleep.\" \"I had to call someone.\" \"You have something to confess?\" echoed the voice incredulously. \"This time, the ascending tonality is unmistakably feminine.\" \"Don't you know who I am?\" \"No, I just dialed blindly.\" \"I've done this before. It is good to hear a voice in the middle of the night, that's all.\" \"Why a stranger? You could call a friend. A stranger doesn't ask questions, but it's my profession to ask questions.\" \"Who are you?\" \"A lie detector.\" There was long silence after his words. The lie detector expected her to hang up, but he heard a cough through the telephone. \"Are you there?\" \"Yes.\" \"I thought you would hang up.\" \"There was laughter through the telephone.\" \"A lax, spangled, spiraling laughter. But you don't practice your profession over the telephone.\" \"It's true. Yet you wouldn't have called me if you were innocent. Guilt is the one burden human beings can't bear alone. As soon as a crime is committed, there is a telephone call or a confession to strangers. There was no crime. There is only one relief. To confess? To be caught, tried, punished? That's the ideal of a crime. Every criminal. But it's not quite so simple. Only half of the self wants to atone. To be freed of the torments of guilt. The other half of man wants to continue to be free. So only half of the self surrenders, calling out, catch me. While the other half creates obstacles, difficulties, seeks to escape. It's a flirtation with justice. If justice is nimble, it will follow the clue with the criminal's help. If not, the criminal will take care of it. Is that worse? I think so. I think we are more severe judges of our own acts than professional judges. We judge our thoughts, our intents, our secret curses, our secret hates, not only our acts. She hung up. The lie detector called up the operator, gave orders to have the call traced. It came from a bar. Half an hour later, he was sitting there. He did not allow his eyes to roam. He wanted his ears to be attentive, that he might recognize the voice. When she ordered a drink, he lifted his eyes from his newspaper. Dressed in red and silver, she evoked the sounds and imagery of fire engines as they toured through the streets of New York, alarming the heart with the violent gong of catastrophe. All dressed in red and silver, the tearing in red and silver cutting a pathway through the flesh. The first time he looked at her, he felt everything. Everything would burn out of the red and silver, and the long cry for love to the poet who survives in all human beings, as the child survives in him. To this poet, she threw an unexpected ladder in the middle of the city, an ordained climber. As she appeared, the orderly alignment of the city gave way before this ladder, one was invited to climb. Standing straight in space, like the back ladder of Baron Munchhausen, which led to the sky. Only her ladder.\n"
          ]
        }
      ],
      "source": [
        "import os\n",
        "from openai import OpenAI\n",
        "import string\n",
        "\n",
        "os.environ['OPENAI_API_KEY'] = '#################################'\n",
        "\n",
        "client = OpenAI(\n",
        "    api_key = os.getenv('OPENAI_API_KEY'),\n",
        ")\n",
        "\n",
        "def count_words(sentence):\n",
        "    # Remove punctuation from the sentence\n",
        "    sentence_cleaned = sentence.translate(str.maketrans('', '', string.punctuation))\n",
        "\n",
        "    # Split the sentence into words\n",
        "    words = sentence_cleaned.split()\n",
        "\n",
        "    # Return the number of words\n",
        "    return len(words)\n",
        "\n",
        "def summarize_with_emphasis(text):\n",
        "    prompt = f\"\"\"\n",
        "        I have a piece of text where certain parts are emphasized. The emphasized parts are enclosed between `{{` and `}}`. There is an emphasis score enclosed between the two opening curly braces. Please generate a summary of the text, giving more importance to the emphasized parts with respect to the emphasis scores. Unemphasized text should be considered, but with lower priority. The summary must be approximately half as long as the original text. The summary must be coherent.\n",
        "\n",
        "        Here is the text:\n",
        "        {text}\n",
        "\n",
        "        Summary:\n",
        "        \"\"\"\n",
        "\n",
        "    response = client.completions.create(\n",
        "        model = \"gpt-3.5-turbo-instruct\",\n",
        "        prompt = prompt,\n",
        "        max_tokens = 1000,\n",
        "        temperature = 0,\n",
        "    )\n",
        "\n",
        "    # Extract and return the generated summary\n",
        "    summary = response.choices[0].text.strip()\n",
        "    return summary\n",
        "\n",
        "# Get the summary\n",
        "summary1 = summarize_with_emphasis(reconstructed_text)\n",
        "\n",
        "# Output the summary\n",
        "print(\"Summary:\", summary1)"
      ]
    },
    {
      "cell_type": "code",
      "execution_count": null,
      "metadata": {
        "execution": {
          "iopub.execute_input": "2024-11-26T17:27:25.939766Z",
          "iopub.status.busy": "2024-11-26T17:27:25.939472Z",
          "iopub.status.idle": "2024-11-26T17:27:25.945558Z",
          "shell.execute_reply": "2024-11-26T17:27:25.944521Z",
          "shell.execute_reply.started": "2024-11-26T17:27:25.939739Z"
        },
        "id": "LnJ-swEJKnI9",
        "outputId": "36e86950-0f56-4ffa-d18d-82f90bf61cc7",
        "trusted": true
      },
      "outputs": [
        {
          "data": {
            "text/plain": [
              "601"
            ]
          },
          "execution_count": 102,
          "metadata": {},
          "output_type": "execute_result"
        }
      ],
      "source": [
        "x = summary1.split(\" \")\n",
        "len(x)"
      ]
    },
    {
      "cell_type": "code",
      "execution_count": null,
      "metadata": {
        "execution": {
          "iopub.execute_input": "2024-11-26T17:27:25.947055Z",
          "iopub.status.busy": "2024-11-26T17:27:25.946735Z",
          "iopub.status.idle": "2024-11-26T17:27:27.652838Z",
          "shell.execute_reply": "2024-11-26T17:27:27.651946Z",
          "shell.execute_reply.started": "2024-11-26T17:27:25.947028Z"
        },
        "id": "qE5_WIT3KnI-",
        "outputId": "1fd0b3ab-4763-477d-f232-903488fff8e8",
        "trusted": true
      },
      "outputs": [
        {
          "name": "stdout",
          "output_type": "stream",
          "text": [
            "Summary: A lie detector receives a call from a woman who is unable to sleep and needs to talk to someone. The lie detector tries to figure out who she is and why she called. They discuss the concept of guilt and confessing to crimes. The woman hangs up and the lie detector traces the call to a bar where he sees a woman dressed in red and silver. She evokes strong emotions in him and he sees her as a ladder to climb towards love and poetry.\n"
          ]
        }
      ],
      "source": [
        "import os\n",
        "from openai import OpenAI\n",
        "import string\n",
        "\n",
        "os.environ['OPENAI_API_KEY'] = '#################################'\n",
        "\n",
        "client = OpenAI(\n",
        "    api_key = os.getenv('OPENAI_API_KEY'),\n",
        ")\n",
        "\n",
        "def count_words(sentence):\n",
        "    # Remove punctuation from the sentence\n",
        "    sentence_cleaned = sentence.translate(str.maketrans('', '', string.punctuation))\n",
        "\n",
        "    # Split the sentence into words\n",
        "    words = sentence_cleaned.split()\n",
        "\n",
        "    # Return the number of words\n",
        "    return len(words)\n",
        "\n",
        "def summarize(text):\n",
        "    prompt = f\"\"\"\n",
        "        I have a piece of text. Please generate a summary of the text. The summary must be approximately half as long as the original text. The summary must be coherent.\n",
        "\n",
        "        Text:\n",
        "        {text}\n",
        "\n",
        "        Summary:\n",
        "        \"\"\"\n",
        "\n",
        "    response = client.completions.create(\n",
        "        model = \"gpt-3.5-turbo-instruct\",\n",
        "        prompt = prompt,\n",
        "        max_tokens = 2000,\n",
        "        temperature = 0,\n",
        "    )\n",
        "\n",
        "    # Extract and return the generated summary\n",
        "    summary = response.choices[0].text.strip()\n",
        "    return summary\n",
        "\n",
        "summary2 = summarize(text)\n",
        "\n",
        "# Output the summary\n",
        "print(\"Summary:\", summary2)"
      ]
    },
    {
      "cell_type": "code",
      "execution_count": null,
      "metadata": {
        "execution": {
          "iopub.execute_input": "2024-11-26T17:27:27.655396Z",
          "iopub.status.busy": "2024-11-26T17:27:27.655135Z",
          "iopub.status.idle": "2024-11-26T17:27:27.660789Z",
          "shell.execute_reply": "2024-11-26T17:27:27.659885Z",
          "shell.execute_reply.started": "2024-11-26T17:27:27.655371Z"
        },
        "id": "LADHKCgEKnI-",
        "outputId": "8fb12f2f-cb40-46a9-bd3f-3fbb6a277f20",
        "trusted": true
      },
      "outputs": [
        {
          "data": {
            "text/plain": [
              "87"
            ]
          },
          "execution_count": 104,
          "metadata": {},
          "output_type": "execute_result"
        }
      ],
      "source": [
        "x = summary2.split(\" \")\n",
        "len(x)"
      ]
    },
    {
      "cell_type": "code",
      "execution_count": null,
      "metadata": {
        "execution": {
          "iopub.execute_input": "2024-11-26T17:27:27.662186Z",
          "iopub.status.busy": "2024-11-26T17:27:27.661952Z",
          "iopub.status.idle": "2024-11-26T17:27:27.670258Z",
          "shell.execute_reply": "2024-11-26T17:27:27.669442Z",
          "shell.execute_reply.started": "2024-11-26T17:27:27.662163Z"
        },
        "id": "pd1GOYjSKnI-",
        "outputId": "f37a1cfc-e43b-421e-e4b2-2f730e6db40b",
        "trusted": true
      },
      "outputs": [
        {
          "name": "stdout",
          "output_type": "stream",
          "text": [
            "A lie detector receives a call from a woman who is unable to sleep and needs to talk to someone. The lie detector tries to figure out who she is and why she called. They discuss the concept of guilt and confessing to crimes. The woman hangs up and the lie detector traces the call to a bar where he sees a woman dressed in red and silver. She evokes strong emotions in him and he sees her as a ladder to climb towards love and poetry.\n",
            " \n",
            "The lie detector was asleep when he heard the telephone ringing. He believed it was the clock ordering him to rise, but then he remembered his profession. The voice he heard was rusty, as if disguised. He could not distinguish what altered it, alcohol, drugs, anxiety or fear. It was a woman's voice, but it could have been an adolescent imitating a woman. A woman imitating an adolescent. \"What is it?\" he asked. \"I had to talk to someone. I can't sleep.\" \"I had to call someone.\" \"You have something to confess?\" echoed the voice incredulously. \"This time, the ascending tonality is unmistakably feminine.\" \"Don't you know who I am?\" \"No, I just dialed blindly.\" \"I've done this before. It is good to hear a voice in the middle of the night, that's all.\" \"Why a stranger? You could call a friend. A stranger doesn't ask questions, but it's my profession to ask questions.\" \"Who are you?\" \"A lie detector.\" There was long silence after his words. The lie detector expected her to hang up, but he heard a cough through the telephone. \"Are you there?\" \"Yes.\" \"I thought you would hang up.\" \"There was laughter through the telephone.\" \"A lax, spangled, spiraling laughter. But you don't practice your profession over the telephone.\" \"It's true. Yet you wouldn't have called me if you were innocent. Guilt is the one burden human beings can't bear alone. As soon as a crime is committed, there is a telephone call or a confession to strangers. There was no crime. There is only one relief. To confess? To be caught, tried, punished? That's the ideal of a crime. Every criminal. But it's not quite so simple. Only half of the self wants to atone. To be freed of the torments of guilt. The other half of man wants to continue to be free. So only half of the self surrenders, calling out, catch me. While the other half creates obstacles, difficulties, seeks to escape. It's a flirtation with justice. If justice is nimble, it will follow the clue with the criminal's help. If not, the criminal will take care of it. Is that worse? I think so. I think we are more severe judges of our own acts than professional judges. We judge our thoughts, our intents, our secret curses, our secret hates, not only our acts. She hung up. The lie detector called up the operator, gave orders to have the call traced. It came from a bar. Half an hour later, he was sitting there. He did not allow his eyes to roam. He wanted his ears to be attentive, that he might recognize the voice. When she ordered a drink, he lifted his eyes from his newspaper. Dressed in red and silver, she evoked the sounds and imagery of fire engines as they toured through the streets of New York, alarming the heart with the violent gong of catastrophe. All dressed in red and silver, the tearing in red and silver cutting a pathway through the flesh. The first time he looked at her, he felt everything. Everything would burn out of the red and silver, and the long cry for love to the poet who survives in all human beings, as the child survives in him. To this poet, she threw an unexpected ladder in the middle of the city, an ordained climber. As she appeared, the orderly alignment of the city gave way before this ladder, one was invited to climb. Standing straight in space, like the back ladder of Baron Munchhausen, which led to the sky. Only her ladder.\n",
            " \n"
          ]
        }
      ],
      "source": [
        "import random\n",
        "variables = [summary1, summary2]\n",
        "\n",
        "# Shuffle the list randomly\n",
        "random.shuffle(variables)\n",
        "\n",
        "# Print the variables in the randomized order\n",
        "for i in variables:\n",
        "    print(i)\n",
        "    print(\" \")"
      ]
    },
    {
      "cell_type": "code",
      "execution_count": null,
      "metadata": {
        "id": "JJQmmCfEKnI-",
        "trusted": true
      },
      "outputs": [],
      "source": []
    }
  ],
  "metadata": {
    "colab": {
      "provenance": []
    },
    "kaggle": {
      "accelerator": "nvidiaTeslaT4",
      "dataSources": [
        {
          "datasetId": 5921585,
          "sourceId": 9999996,
          "sourceType": "datasetVersion"
        },
        {
          "datasetId": 6159240,
          "sourceId": 10005776,
          "sourceType": "datasetVersion"
        },
        {
          "datasetId": 6160203,
          "sourceId": 10007045,
          "sourceType": "datasetVersion"
        },
        {
          "datasetId": 6161192,
          "sourceId": 10008383,
          "sourceType": "datasetVersion"
        },
        {
          "datasetId": 6161441,
          "sourceId": 10008712,
          "sourceType": "datasetVersion"
        },
        {
          "datasetId": 6163211,
          "sourceId": 10011104,
          "sourceType": "datasetVersion"
        },
        {
          "datasetId": 6163706,
          "sourceId": 10011775,
          "sourceType": "datasetVersion"
        },
        {
          "datasetId": 6171090,
          "sourceId": 10021642,
          "sourceType": "datasetVersion"
        }
      ],
      "dockerImageVersionId": 30786,
      "isGpuEnabled": true,
      "isInternetEnabled": true,
      "language": "python",
      "sourceType": "notebook"
    },
    "kernelspec": {
      "display_name": "Python 3",
      "language": "python",
      "name": "python3"
    },
    "language_info": {
      "codemirror_mode": {
        "name": "ipython",
        "version": 3
      },
      "file_extension": ".py",
      "mimetype": "text/x-python",
      "name": "python",
      "nbconvert_exporter": "python",
      "pygments_lexer": "ipython3",
      "version": "3.10.14"
    }
  },
  "nbformat": 4,
  "nbformat_minor": 0
}
